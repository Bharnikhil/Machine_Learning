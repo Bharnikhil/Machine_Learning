{
 "cells": [
  {
   "cell_type": "markdown",
   "id": "ea3ba576",
   "metadata": {},
   "source": [
    "# Hyperparameters and Hyperparameter Tuning\n",
    "\n",
    "---\n",
    "\n",
    "## 🔹 What is a **Hyperparameter**?  \n",
    "In machine learning, **parameters** and **hyperparameters** are different:\n",
    "\n",
    "- **Parameters** → learned automatically from the data (e.g., weights in linear regression, decision boundaries in SVM).  \n",
    "- **Hyperparameters** → values that you **set manually before training**. They control **how the model learns**.  \n",
    "\n",
    "### Examples of Hyperparameters:\n",
    "- Learning rate in gradient descent  \n",
    "- Number of hidden layers/neurons in a neural network  \n",
    "- `alpha` (λ) in Ridge/Lasso regression  \n",
    "- `max_depth` in Decision Trees  \n",
    "- Number of clusters (k) in K-Means  \n",
    "\n",
    "---\n",
    "\n",
    "## 🔹 What is **Hyperparameter Tuning**?  \n",
    "It is the process of **finding the best combination of hyperparameters** that gives the best performance for your model.\n",
    "\n",
    "Since hyperparameters aren’t learned automatically, you must search for good values.  \n",
    "\n",
    "### Common Tuning Methods:\n",
    "1. **Grid Search** → try all combinations from a predefined set  \n",
    "2. **Random Search** → randomly try combinations (faster than grid search)  \n",
    "3. **Bayesian Optimization** → uses probability to smartly explore the space  \n",
    "4. **Automated ML (AutoML)** → frameworks like Optuna, Hyperopt, or sklearn’s `RandomizedSearchCV` and `GridSearchCV`  \n",
    "\n",
    "---\n",
    "\n",
    "## ✅ In Short:\n",
    "- **Hyperparameters** = knobs you set before training  \n",
    "- **Hyperparameter tuning** = process of finding the best setting of those knobs to maximize model performance  \n"
   ]
  }
 ],
 "metadata": {
  "kernelspec": {
   "display_name": "myEnvir",
   "language": "python",
   "name": "python3"
  },
  "language_info": {
   "name": "python",
   "version": "3.10.18"
  }
 },
 "nbformat": 4,
 "nbformat_minor": 5
}
