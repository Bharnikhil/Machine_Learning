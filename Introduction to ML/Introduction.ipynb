{
 "cells": [
  {
   "cell_type": "markdown",
   "id": "c6a777aa",
   "metadata": {},
   "source": [
    "# Supervised Learning\n",
    "\n",
    "**Supervised learning** is a type of machine learning where the model is trained on a **labeled dataset** — meaning the data contains both the **input features (X)** and the **correct output/target (Y)**.\n",
    "\n",
    "The algorithm learns a **mapping function** from inputs to outputs, so that when it sees new (unseen) inputs, it can predict the correct output.\n",
    "\n",
    "---\n",
    "\n",
    "## Types of Supervised Learning\n",
    "\n",
    "### 1. Classification\n",
    "- **Goal:** Predict categories/labels (discrete output).  \n",
    "- **Example:** Spam or Not Spam (Email Filtering)  \n",
    "- **Algorithms:** Logistic Regression, Decision Trees, SVM, Neural Networks  \n",
    "\n",
    "### 2. Regression\n",
    "- **Goal:** Predict continuous values.  \n",
    "- **Example:** Predicting house prices, stock prices  \n",
    "- **Algorithms:** Linear Regression, Random Forest Regressor, Gradient Boosting  \n"
   ]
  },
  {
   "cell_type": "markdown",
   "id": "22929909",
   "metadata": {},
   "source": [
    "# 🔹 Unsupervised Learning\n",
    "\n",
    "**Unsupervised learning** is a type of machine learning where the model is trained on **unlabeled data** — meaning the dataset contains only **inputs (X)** and **no outputs (Y)**.\n",
    "\n",
    "The algorithm tries to find **patterns, structure, or relationships** in the data **without being told the correct answer**.\n",
    "\n",
    "---\n",
    "\n",
    "## ✨ How it differs from Supervised Learning\n",
    "\n",
    "- **Supervised Learning:** Input (X) + Output (Y) → Learn mapping from X → Y.  \n",
    "- **Unsupervised Learning:** Only Input (X) → Discover hidden patterns or groupings.  \n",
    "\n",
    "💡 *Think of it as the teacher not giving you answers; the model has to figure things out by itself.*  \n"
   ]
  },
  {
   "cell_type": "markdown",
   "id": "c7a6c810",
   "metadata": {},
   "source": [
    "# 🔹 Diving the data \n",
    "# 🔹 Why We Divide Data into Training and Testing Sets\n",
    "\n",
    "When building a machine learning model, we divide our dataset into two main parts:\n",
    "\n",
    "## 1. Training Data\n",
    "- **Purpose:** Used to **train** the model (learn patterns and relationships).  \n",
    "- **Seen or Unseen?** → This data is **seen** by the model during training.  \n",
    "- Example: The model learns that emails containing words like *\"free\"*, *\"offer\"*, or *\"win\"* are often **spam**.\n",
    "\n",
    "## 2. Testing Data\n",
    "- **Purpose:** Used to **evaluate** the model's performance on new data.  \n",
    "- **Seen or Unseen?** → This data is **unseen** by the model during training(However Humans know the correct output).  \n",
    "- Example: After training, we test the model with new emails to check if it correctly classifies them as **spam or not spam**.\n",
    "\n",
    "---\n",
    "\n",
    "## ✨ Reason for Splitting the Data\n",
    "- If we only use training data, the model might just **memorize** the answers (overfitting).  \n",
    "- Testing on **unseen data** helps check whether the model can **generalize** to new, real-world data.\n"
   ]
  },
  {
   "cell_type": "markdown",
   "id": "211b5f65",
   "metadata": {},
   "source": [
    "\n",
    "# 🔹 Overfitting the Training Data\n",
    "\n",
    "**Overfitting** happens when a machine learning model learns the training data **too well** — including the noise and random fluctuations — instead of just the underlying patterns.\n",
    "\n",
    "---\n",
    "\n",
    "## ⚡ Result of Overfitting\n",
    "- ✅ Performs **very well on training data** (high accuracy).  \n",
    "- ❌ Performs **poorly on new/unseen test data** (low generalization).  \n",
    "\n",
    "---\n",
    "\n",
    "## 🛠️ Causes of Overfitting\n",
    "- Too little training data  \n",
    "- Noisy data or irrelevant features  \n",
    "- Too many features (high dimensionality)  \n",
    "- Model is too complex (e.g., very deep trees, large neural nets)  \n"
   ]
  },
  {
   "cell_type": "markdown",
   "id": "f944934a",
   "metadata": {},
   "source": [
    "# 🔹 Underfitting the Training Data\n",
    "\n",
    "**Underfitting** happens when a machine learning model is **too simple** to capture the underlying patterns in the data.  \n",
    "It fails to perform well on both **training data** and **test data**.\n",
    "\n",
    "---\n",
    "\n",
    "## ⚡ Result of Underfitting\n",
    "- ❌ Performs **poorly on training data** (low accuracy).  \n",
    "- ❌ Performs **poorly on test data** (fails to generalize).  \n"
   ]
  },
  {
   "cell_type": "markdown",
   "id": "e897cd9e",
   "metadata": {},
   "source": [
    "In Supervised machine learning,we have our input feature X and also we have our output feature Y and there is some kind of relationship between input value X and the output value Y and X is called Independent feature and Y is called depenedent Feature "
   ]
  }
 ],
 "metadata": {
  "kernelspec": {
   "display_name": "myEnvir",
   "language": "python",
   "name": "python3"
  },
  "language_info": {
   "name": "python",
   "version": "3.10.18"
  }
 },
 "nbformat": 4,
 "nbformat_minor": 5
}
